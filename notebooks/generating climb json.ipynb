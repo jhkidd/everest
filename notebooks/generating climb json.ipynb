{
 "cells": [
  {
   "cell_type": "code",
   "execution_count": 11,
   "metadata": {},
   "outputs": [],
   "source": [
    "import pandas as pd\n",
    "from datetime import datetime"
   ]
  },
  {
   "cell_type": "code",
   "execution_count": 6,
   "metadata": {},
   "outputs": [],
   "source": [
    "days_of_week = list(range(1,8))\n",
    "climbers = ['ed', 'josh', 'robin', 'shirlee', 'dom', 'rebecca', 'david', 'andrew', \n",
    "            'jane', 'aileen', 'maxine', 'dave', 'nick', 'tina', 'ian', 'lauren']"
   ]
  },
  {
   "cell_type": "code",
   "execution_count": 22,
   "metadata": {},
   "outputs": [],
   "source": [
    "def timestamp_for_dow(dow):\n",
    "    timestring_format = '%Y/%m/%d %H:%M:%S'\n",
    "    timestring = '2018/02/0{} 15:00:00'.format(str(dow))\n",
    "    time = datetime.strptime(timestring, timestring_format)\n",
    "    epoch = datetime.utcfromtimestamp(0)\n",
    "    return int((time - epoch).total_seconds())"
   ]
  },
  {
   "cell_type": "code",
   "execution_count": 24,
   "metadata": {},
   "outputs": [
    {
     "name": "stdout",
     "output_type": "stream",
     "text": [
      "How many flights did ed climb on 1 Feb?0\n",
      "How many flights did ed climb on 2 Feb?0\n",
      "How many flights did ed climb on 3 Feb?0\n",
      "How many flights did ed climb on 4 Feb?0\n",
      "How many flights did ed climb on 5 Feb?0\n",
      "How many flights did ed climb on 6 Feb?0\n",
      "How many flights did ed climb on 7 Feb?0\n",
      "How many flights did josh climb on 1 Feb?5\n",
      "How many flights did josh climb on 2 Feb?0\n",
      "How many flights did josh climb on 3 Feb?0\n",
      "How many flights did josh climb on 4 Feb?10\n",
      "How many flights did josh climb on 5 Feb?10\n",
      "How many flights did josh climb on 6 Feb?10\n",
      "How many flights did josh climb on 7 Feb?15\n",
      "How many flights did robin climb on 1 Feb?10\n",
      "How many flights did robin climb on 2 Feb?0\n",
      "How many flights did robin climb on 3 Feb?0\n",
      "How many flights did robin climb on 4 Feb?5\n",
      "How many flights did robin climb on 5 Feb?10\n",
      "How many flights did robin climb on 6 Feb?10\n",
      "How many flights did robin climb on 7 Feb?10\n",
      "How many flights did shirlee climb on 1 Feb?15\n",
      "How many flights did shirlee climb on 2 Feb?0\n",
      "How many flights did shirlee climb on 3 Feb?0\n",
      "How many flights did shirlee climb on 4 Feb?5\n",
      "How many flights did shirlee climb on 5 Feb?10\n",
      "How many flights did shirlee climb on 6 Feb?10\n",
      "How many flights did shirlee climb on 7 Feb?10\n",
      "How many flights did dom climb on 1 Feb?10\n",
      "How many flights did dom climb on 2 Feb?0\n",
      "How many flights did dom climb on 3 Feb?0\n",
      "How many flights did dom climb on 4 Feb?5\n",
      "How many flights did dom climb on 5 Feb?0\n",
      "How many flights did dom climb on 6 Feb?5\n",
      "How many flights did dom climb on 7 Feb?5\n",
      "How many flights did rebecca climb on 1 Feb?10\n",
      "How many flights did rebecca climb on 2 Feb?0\n",
      "How many flights did rebecca climb on 3 Feb?0\n",
      "How many flights did rebecca climb on 4 Feb?15\n",
      "How many flights did rebecca climb on 5 Feb?10\n",
      "How many flights did rebecca climb on 6 Feb?10\n",
      "How many flights did rebecca climb on 7 Feb?5\n",
      "How many flights did david climb on 1 Feb?15\n",
      "How many flights did david climb on 2 Feb?0\n",
      "How many flights did david climb on 3 Feb?0\n",
      "How many flights did david climb on 4 Feb?10\n",
      "How many flights did david climb on 5 Feb?25\n",
      "How many flights did david climb on 6 Feb?15\n",
      "How many flights did david climb on 7 Feb?15\n",
      "How many flights did andrew climb on 1 Feb?0\n",
      "How many flights did andrew climb on 2 Feb?0\n",
      "How many flights did andrew climb on 3 Feb?0\n",
      "How many flights did andrew climb on 4 Feb?10\n",
      "How many flights did andrew climb on 5 Feb?10\n",
      "How many flights did andrew climb on 6 Feb?10\n",
      "How many flights did andrew climb on 7 Feb?5\n",
      "How many flights did jane climb on 1 Feb?10\n",
      "How many flights did jane climb on 2 Feb?0\n",
      "How many flights did jane climb on 3 Feb?0\n",
      "How many flights did jane climb on 4 Feb?5\n",
      "How many flights did jane climb on 5 Feb?10\n",
      "How many flights did jane climb on 6 Feb?5\n",
      "How many flights did jane climb on 7 Feb?5\n",
      "How many flights did aileen climb on 1 Feb?25\n",
      "How many flights did aileen climb on 2 Feb?0\n",
      "How many flights did aileen climb on 3 Feb?0\n",
      "How many flights did aileen climb on 4 Feb?5\n",
      "How many flights did aileen climb on 5 Feb?10\n",
      "How many flights did aileen climb on 6 Feb?15\n",
      "How many flights did aileen climb on 7 Feb?15\n",
      "How many flights did maxine climb on 1 Feb?6\n",
      "How many flights did maxine climb on 2 Feb?0\n",
      "How many flights did maxine climb on 3 Feb?0\n",
      "How many flights did maxine climb on 4 Feb?0\n",
      "How many flights did maxine climb on 5 Feb?0\n",
      "How many flights did maxine climb on 6 Feb?6\n",
      "How many flights did maxine climb on 7 Feb?3\n",
      "How many flights did dave climb on 1 Feb?5\n",
      "How many flights did dave climb on 2 Feb?0\n",
      "How many flights did dave climb on 3 Feb?0\n",
      "How many flights did dave climb on 4 Feb?0\n",
      "How many flights did dave climb on 5 Feb?10\n",
      "How many flights did dave climb on 6 Feb?10\n",
      "How many flights did dave climb on 7 Feb?5\n",
      "How many flights did nick climb on 1 Feb?10\n",
      "How many flights did nick climb on 2 Feb?0\n",
      "How many flights did nick climb on 3 Feb?0\n",
      "How many flights did nick climb on 4 Feb?5\n",
      "How many flights did nick climb on 5 Feb?5\n",
      "How many flights did nick climb on 6 Feb?5\n",
      "How many flights did nick climb on 7 Feb?5\n",
      "How many flights did tina climb on 1 Feb?0\n",
      "How many flights did tina climb on 2 Feb?0\n",
      "How many flights did tina climb on 3 Feb?0\n",
      "How many flights did tina climb on 4 Feb?5\n",
      "How many flights did tina climb on 5 Feb?10\n",
      "How many flights did tina climb on 6 Feb?5\n",
      "How many flights did tina climb on 7 Feb?5\n",
      "How many flights did ian climb on 1 Feb?0\n",
      "How many flights did ian climb on 2 Feb?0\n",
      "How many flights did ian climb on 3 Feb?0\n",
      "How many flights did ian climb on 4 Feb?10\n",
      "How many flights did ian climb on 5 Feb?5\n",
      "How many flights did ian climb on 6 Feb?0\n",
      "How many flights did ian climb on 7 Feb?0\n",
      "How many flights did lauren climb on 1 Feb?0\n",
      "How many flights did lauren climb on 2 Feb?0\n",
      "How many flights did lauren climb on 3 Feb?0\n",
      "How many flights did lauren climb on 4 Feb?10\n",
      "How many flights did lauren climb on 5 Feb?10\n",
      "How many flights did lauren climb on 6 Feb?10\n",
      "How many flights did lauren climb on 7 Feb?0\n"
     ]
    }
   ],
   "source": [
    "dicts = []\n",
    "\n",
    "for climber in climbers:\n",
    "    for day_of_week in days_of_week:\n",
    "        message = \"How many flights did {} climb on {} Feb?\".format(climber, str(day_of_week))\n",
    "        value = input(message)\n",
    "        dicts.append({\n",
    "            \"climber\": climber,\n",
    "            \"flights\": int(value),\n",
    "            \"timestamp\": timestamp_for_dow(day_of_week)\n",
    "        })"
   ]
  },
  {
   "cell_type": "code",
   "execution_count": 25,
   "metadata": {},
   "outputs": [],
   "source": [
    "df = pd.DataFrame(dicts)"
   ]
  },
  {
   "cell_type": "code",
   "execution_count": 26,
   "metadata": {},
   "outputs": [],
   "source": [
    "df.to_csv('wk1climbdata.csv', index=False, header=True)"
   ]
  },
  {
   "cell_type": "code",
   "execution_count": 29,
   "metadata": {},
   "outputs": [],
   "source": [
    "nonzero = [d for d in dicts if d['flights'] > 0]"
   ]
  },
  {
   "cell_type": "code",
   "execution_count": 31,
   "metadata": {},
   "outputs": [],
   "source": [
    "wk1climbs = {\n",
    "    \"climbs\": nonzero\n",
    "}"
   ]
  },
  {
   "cell_type": "code",
   "execution_count": 33,
   "metadata": {},
   "outputs": [],
   "source": [
    "import json"
   ]
  },
  {
   "cell_type": "code",
   "execution_count": 35,
   "metadata": {},
   "outputs": [],
   "source": [
    "import json\n",
    "with open('wk1climbs.json', 'w') as outfile:\n",
    "    json.dump(wk1climbs, outfile)"
   ]
  },
  {
   "cell_type": "code",
   "execution_count": null,
   "metadata": {},
   "outputs": [],
   "source": []
  }
 ],
 "metadata": {
  "kernelspec": {
   "display_name": "Python 3",
   "language": "python",
   "name": "python3"
  },
  "language_info": {
   "codemirror_mode": {
    "name": "ipython",
    "version": 3
   },
   "file_extension": ".py",
   "mimetype": "text/x-python",
   "name": "python",
   "nbconvert_exporter": "python",
   "pygments_lexer": "ipython3",
   "version": "3.6.4"
  }
 },
 "nbformat": 4,
 "nbformat_minor": 2
}
