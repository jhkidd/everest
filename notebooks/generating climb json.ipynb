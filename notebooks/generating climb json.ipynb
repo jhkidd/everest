{
 "cells": [
  {
   "cell_type": "code",
   "execution_count": 1,
   "metadata": {},
   "outputs": [],
   "source": [
    "import pandas as pd\n",
    "from datetime import datetime"
   ]
  },
  {
   "cell_type": "code",
   "execution_count": 2,
   "metadata": {},
   "outputs": [],
   "source": [
    "days_of_week = list(range(8,15))\n",
    "climbers = ['ed', 'josh', 'robin', 'shirlee', 'dom', 'rebecca', 'david', 'andrew', \n",
    "            'jane', 'aileen', 'maxine', 'dave', 'nick', 'tina', 'ian', 'lauren']"
   ]
  },
  {
   "cell_type": "code",
   "execution_count": 3,
   "metadata": {},
   "outputs": [],
   "source": [
    "def timestamp_for_dow(dow):\n",
    "    timestring_format = '%Y/%m/%d %H:%M:%S'\n",
    "    if dow < 10:\n",
    "        dow_padded = \"0\" + str(dow)\n",
    "    else:\n",
    "        dow_padded = dow\n",
    "    timestring = '2018/02/{} 15:00:00'.format(dow_padded)\n",
    "    time = datetime.strptime(timestring, timestring_format)\n",
    "    epoch = datetime.utcfromtimestamp(0)\n",
    "    return int((time - epoch).total_seconds())"
   ]
  },
  {
   "cell_type": "code",
   "execution_count": 5,
   "metadata": {},
   "outputs": [
    {
     "name": "stdout",
     "output_type": "stream",
     "text": [
      "How many flights did ed climb on 8 Feb?0\n",
      "How many flights did ed climb on 9 Feb?0\n",
      "How many flights did ed climb on 10 Feb?0\n",
      "How many flights did ed climb on 11 Feb?0\n",
      "How many flights did ed climb on 12 Feb?0\n",
      "How many flights did ed climb on 13 Feb?0\n",
      "How many flights did ed climb on 14 Feb?0\n",
      "How many flights did josh climb on 8 Feb?10\n",
      "How many flights did josh climb on 9 Feb?0\n",
      "How many flights did josh climb on 10 Feb?0\n",
      "How many flights did josh climb on 11 Feb?10\n",
      "How many flights did josh climb on 12 Feb?10\n",
      "How many flights did josh climb on 13 Feb?10\n",
      "How many flights did josh climb on 14 Feb?10\n",
      "How many flights did robin climb on 8 Feb?10\n",
      "How many flights did robin climb on 9 Feb?0\n",
      "How many flights did robin climb on 10 Feb?0\n",
      "How many flights did robin climb on 11 Feb?10\n",
      "How many flights did robin climb on 12 Feb?25\n",
      "How many flights did robin climb on 13 Feb?10\n",
      "How many flights did robin climb on 14 Feb?10\n",
      "How many flights did shirlee climb on 8 Feb?10\n",
      "How many flights did shirlee climb on 9 Feb?0\n",
      "How many flights did shirlee climb on 10 Feb?0\n",
      "How many flights did shirlee climb on 11 Feb?5\n",
      "How many flights did shirlee climb on 12 Feb?15\n",
      "How many flights did shirlee climb on 13 Feb?10\n",
      "How many flights did shirlee climb on 14 Feb?10\n",
      "How many flights did dom climb on 8 Feb?5\n",
      "How many flights did dom climb on 9 Feb?0\n",
      "How many flights did dom climb on 10 Feb?0\n",
      "How many flights did dom climb on 11 Feb?5\n",
      "How many flights did dom climb on 12 Feb?10\n",
      "How many flights did dom climb on 13 Feb?5\n",
      "How many flights did dom climb on 14 Feb?5\n",
      "How many flights did rebecca climb on 8 Feb?10\n",
      "How many flights did rebecca climb on 9 Feb?0\n",
      "How many flights did rebecca climb on 10 Feb?0\n",
      "How many flights did rebecca climb on 11 Feb?5\n",
      "How many flights did rebecca climb on 12 Feb?10\n",
      "How many flights did rebecca climb on 13 Feb?10\n",
      "How many flights did rebecca climb on 14 Feb?10\n",
      "How many flights did david climb on 8 Feb?15\n",
      "How many flights did david climb on 9 Feb?0\n",
      "How many flights did david climb on 10 Feb?0\n",
      "How many flights did david climb on 11 Feb?15\n",
      "How many flights did david climb on 12 Feb?20\n",
      "How many flights did david climb on 13 Feb?10\n",
      "How many flights did david climb on 14 Feb?10\n",
      "How many flights did andrew climb on 8 Feb?20\n",
      "How many flights did andrew climb on 9 Feb?0\n",
      "How many flights did andrew climb on 10 Feb?0\n",
      "How many flights did andrew climb on 11 Feb?14\n",
      "How many flights did andrew climb on 12 Feb?20\n",
      "How many flights did andrew climb on 13 Feb?13\n",
      "How many flights did andrew climb on 14 Feb?20\n",
      "How many flights did jane climb on 8 Feb?5\n",
      "How many flights did jane climb on 9 Feb?0\n",
      "How many flights did jane climb on 10 Feb?0\n",
      "How many flights did jane climb on 11 Feb?5\n",
      "How many flights did jane climb on 12 Feb?5\n",
      "How many flights did jane climb on 13 Feb?5\n",
      "How many flights did jane climb on 14 Feb?0\n",
      "How many flights did aileen climb on 8 Feb?15\n",
      "How many flights did aileen climb on 9 Feb?0\n",
      "How many flights did aileen climb on 10 Feb?0\n",
      "How many flights did aileen climb on 11 Feb?20\n",
      "How many flights did aileen climb on 12 Feb?10\n",
      "How many flights did aileen climb on 13 Feb?10\n",
      "How many flights did aileen climb on 14 Feb?20\n",
      "How many flights did maxine climb on 8 Feb?7\n",
      "How many flights did maxine climb on 9 Feb?0\n",
      "How many flights did maxine climb on 10 Feb?0\n",
      "How many flights did maxine climb on 11 Feb?0\n",
      "How many flights did maxine climb on 12 Feb?0\n",
      "How many flights did maxine climb on 13 Feb?6\n",
      "How many flights did maxine climb on 14 Feb?8\n",
      "How many flights did dave climb on 8 Feb?0\n",
      "How many flights did dave climb on 9 Feb?0\n",
      "How many flights did dave climb on 10 Feb?0\n",
      "How many flights did dave climb on 11 Feb?10\n",
      "How many flights did dave climb on 12 Feb?10\n",
      "How many flights did dave climb on 13 Feb?10\n",
      "How many flights did dave climb on 14 Feb?0\n",
      "How many flights did nick climb on 8 Feb?5\n",
      "How many flights did nick climb on 9 Feb?0\n",
      "How many flights did nick climb on 10 Feb?0\n",
      "How many flights did nick climb on 11 Feb?5\n",
      "How many flights did nick climb on 12 Feb?5\n",
      "How many flights did nick climb on 13 Feb?5\n",
      "How many flights did nick climb on 14 Feb?10\n",
      "How many flights did tina climb on 8 Feb?0\n",
      "How many flights did tina climb on 9 Feb?0\n",
      "How many flights did tina climb on 10 Feb?0\n",
      "How many flights did tina climb on 11 Feb?10\n",
      "How many flights did tina climb on 12 Feb?5\n",
      "How many flights did tina climb on 13 Feb?10\n",
      "How many flights did tina climb on 14 Feb?10\n",
      "How many flights did ian climb on 8 Feb?5\n",
      "How many flights did ian climb on 9 Feb?0\n",
      "How many flights did ian climb on 10 Feb?0\n",
      "How many flights did ian climb on 11 Feb?5\n",
      "How many flights did ian climb on 12 Feb?5\n",
      "How many flights did ian climb on 13 Feb?5\n",
      "How many flights did ian climb on 14 Feb?10\n",
      "How many flights did lauren climb on 8 Feb?0\n",
      "How many flights did lauren climb on 9 Feb?0\n",
      "How many flights did lauren climb on 10 Feb?0\n",
      "How many flights did lauren climb on 11 Feb?10\n",
      "How many flights did lauren climb on 12 Feb?0\n",
      "How many flights did lauren climb on 13 Feb?0\n",
      "How many flights did lauren climb on 14 Feb?5\n"
     ]
    }
   ],
   "source": [
    "dicts = []\n",
    "\n",
    "for climber in climbers:\n",
    "    for day_of_week in days_of_week:\n",
    "        message = \"How many flights did {} climb on {} Feb?\".format(climber, str(day_of_week))\n",
    "        value = input(message)\n",
    "        dicts.append({\n",
    "            \"climber\": climber,\n",
    "            \"flights\": int(value),\n",
    "            \"timestamp\": timestamp_for_dow(day_of_week)\n",
    "        })"
   ]
  },
  {
   "cell_type": "code",
   "execution_count": 6,
   "metadata": {},
   "outputs": [
    {
     "name": "stdout",
     "output_type": "stream",
     "text": [
      "How many flights did Dave Chipman climb on 8 Feb?10\n",
      "How many flights did Dave Chipman climb on 9 Feb?0\n",
      "How many flights did Dave Chipman climb on 10 Feb?0\n",
      "How many flights did Dave Chipman climb on 11 Feb?5\n",
      "How many flights did Dave Chipman climb on 12 Feb?5\n",
      "How many flights did Dave Chipman climb on 13 Feb?5\n",
      "How many flights did Dave Chipman climb on 14 Feb?5\n"
     ]
    }
   ],
   "source": [
    "for day_of_week in days_of_week:\n",
    "    message = \"How many flights did {} climb on {} Feb?\".format('Dave Chipman', str(day_of_week))\n",
    "    value = input(message)\n",
    "    dicts.append({\n",
    "        \"climber\": 'davechipman',\n",
    "        \"flights\": int(value),\n",
    "        \"timestamp\": timestamp_for_dow(day_of_week)\n",
    "    })"
   ]
  },
  {
   "cell_type": "code",
   "execution_count": 7,
   "metadata": {},
   "outputs": [],
   "source": [
    "df = pd.DataFrame(dicts)"
   ]
  },
  {
   "cell_type": "code",
   "execution_count": 8,
   "metadata": {},
   "outputs": [],
   "source": [
    "df.to_csv('wk2climbdata.csv', index=False, header=True)"
   ]
  },
  {
   "cell_type": "code",
   "execution_count": 9,
   "metadata": {},
   "outputs": [],
   "source": [
    "nonzero = [d for d in dicts if d['flights'] > 0]"
   ]
  },
  {
   "cell_type": "code",
   "execution_count": 10,
   "metadata": {},
   "outputs": [],
   "source": [
    "wk2climbs = {\n",
    "    \"climbs\": nonzero\n",
    "}"
   ]
  },
  {
   "cell_type": "code",
   "execution_count": 11,
   "metadata": {},
   "outputs": [],
   "source": [
    "import json"
   ]
  },
  {
   "cell_type": "code",
   "execution_count": 13,
   "metadata": {},
   "outputs": [],
   "source": [
    "import json\n",
    "with open('wk2climbs.json', 'w') as outfile:\n",
    "    json.dump(wk2climbs, outfile)"
   ]
  },
  {
   "cell_type": "code",
   "execution_count": null,
   "metadata": {},
   "outputs": [],
   "source": []
  }
 ],
 "metadata": {
  "kernelspec": {
   "display_name": "Python 3",
   "language": "python",
   "name": "python3"
  },
  "language_info": {
   "codemirror_mode": {
    "name": "ipython",
    "version": 3
   },
   "file_extension": ".py",
   "mimetype": "text/x-python",
   "name": "python",
   "nbconvert_exporter": "python",
   "pygments_lexer": "ipython3",
   "version": "3.6.4"
  }
 },
 "nbformat": 4,
 "nbformat_minor": 2
}
